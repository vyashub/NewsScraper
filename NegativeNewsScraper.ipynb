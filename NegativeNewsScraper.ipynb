{
  "nbformat": 4,
  "nbformat_minor": 0,
  "metadata": {
    "colab": {
      "provenance": []
    },
    "kernelspec": {
      "name": "python3",
      "display_name": "Python 3"
    },
    "language_info": {
      "name": "python"
    }
  },
  "cells": [
    {
      "cell_type": "code",
      "execution_count": null,
      "metadata": {
        "colab": {
          "base_uri": "https://localhost:8080/"
        },
        "id": "fWTOjxG_6JIv",
        "outputId": "e4cb16a5-aa40-4c0e-f565-b2e78b5cf0d7"
      },
      "outputs": [
        {
          "output_type": "stream",
          "name": "stdout",
          "text": [
            "\n",
            "## Financial Express\n",
            "- Freaky Friday! Nifty, Sensex end in the red for the week, market cap declines – 5 key highlights\n",
            "- Freaky Friday! Nifty, Sensex end in the red for the week, market cap declines – 5 key highlights\n",
            "- Three reasons why markets are falling today? BSE market cap down by Rs 4.75 lakh crore; small and midcaps crack\n",
            "- Three reasons why markets are falling today? BSE market cap down by Rs 4.75 lakh crore; small and midcaps crack\n",
            "- Bajaj Finance tanks 6%: Is it ‘time to buy the dip’ or ‘cut your losses’? Experts weigh in\n",
            "- Bajaj Finance tanks 6%: Is it ‘time to buy the dip’ or ‘cut your losses’? Experts weigh in\n",
            "- Nifty below 24,900, Sensex falls 600 points; Bajaj Finance plunges 4%, Reliance Infra, Reliance Power locked in lower circuit\n",
            "- Nifty below 24,900, Sensex falls 600 points; Bajaj Finance plunges 4%, Reliance Infra, Reliance Power locked in lower circuit\n",
            "- Petronet LNG consolidated net profit falls 25% in Q1\n",
            "\n",
            "## Economic Times\n",
            "- 10 year yield spikes amid a decline in bets on August rate cut\n",
            "- ET Market Watch: Sensex slumps 721 pts, Nifty below 24,850; 5 factors why markets crashed\n",
            "- Petronet Q1 Results: Net profit falls 25%, to invest Rs 6,355 crore in new LNG terminal\n",
            "- US stocks rise on US-EU trade deal prospects; Intel falls\n",
            "- Bank of Baroda Q1 Results: PAT grows 2% YoY to Rs 4,541 crore, NII decline 1.4%\n",
            "- IDFC First Bank Q1 Preview: PAT may fall up to 68% YoY amid NIM pressure. 6 things to watch\n",
            "- Stock market update: Sugar stocks  down  as market  falls\n",
            "- Sensex  falls! But these  stocks rallied over 15% on BSE in today's trade\n",
            "- Stock market update: Fertilisers stocks  down  as market  falls\n",
            "- Stock market update: Power stocks  down  as market  falls\n",
            "- Stock market update: Nifty Realty index  falls  0.99%\n",
            "- Sensex  falls! These  stocks fell 5% or more in Friday's session\n",
            "- Stock market update: Nifty IT index  falls  1.42%\n",
            "- Stock market update: Mining stocks  down  as market  falls\n",
            "- Sensex  falls! But these  stocks surged over 5% on BSE\n",
            "- Sona Comstar shares fall 3% after Sunjay Kapur's mother seeks deferment of AGM today amid coercion, misrepresentation allegations\n",
            "- Nikkei falls as traders lock in gains after US trade deal rally\n",
            "- Kotak Mahindra Bank Q1 Preview: PAT seen falling 26% YoY, NII growth muted\n",
            "- Why stock market is down today? Sensex ends 721 pts lower, Nifty below 24,850; 5 reasons behind the fall\n",
            "- Intel Earnings: Chipmaker to cut jobs as Q3 loss forecast deepens\n",
            "- Stock market update: Sugar stocks  down  as market  falls\n",
            "- Bajaj Finance shares fall 6% despite Q1 profit growth. Should you buy, sell or hold?\n",
            "- Stock market update: FMCG stocks  down  as market  falls\n",
            "- Stock market update: Power stocks  down  as market  falls\n",
            "- China 30-year bond futures set for biggest weekly drop in 10 months\n",
            "- From WhatsApp tips to deepfakes: Nilesh Shah warns Gen Z on investment pitfalls\n",
            "- IDFC First Bank Q1 Preview: PAT may fall up to 68% YoY. 6 things to watch\n",
            "- IDFC First Bank Q1 Preview: PAT may fall up to 68% YoY. 6 things to watch\n",
            "- Sensex slumps 721 pts, Nifty below 24,850; 5 factors why markets crashed\n",
            "- Stock Radar: Bajaj Finance breaks out from falling supply trendline; likely to hit fresh highs above Rs 1,000\n",
            "- Why Bajaj Finance share is Falling\n",
            "- Why Stock Market is Falling Today\n",
            "- Why IEX Share Price is Falling\n",
            "- HDFC Bank CFO explains the fall in fee-based income in Q1, expects cost of funds to stabilise\n",
            "- 10 year yield spikes amid a decline in bets on August rate cut\n",
            "- China 30-year bond futures set for biggest weekly drop in 10 months\n",
            "- Petronet Q1 Results: Net profit falls 25%, to invest Rs 6,355 crore in new LNG terminal\n",
            "- Indian rupee falls 19 paise to 86.59 against US dollar in early trade\n",
            "- Dollar heads for biggest weekly drop in a month as focus shifts to Fed, BOJ meets\n",
            "- ET Market Watch: Sensex slumps 721 pts, Nifty below 24,850; 5 factors why markets crashed\n",
            "- Oil prices climb on US trade optimism, drop in crude stockpiles\n",
            "- Why stock market is Falling Today\n",
            "- Falling Off The Momentum Why Retail Investors Are Losing Money After Witnessing A Long Rally\n",
            "- Mens Underwear Sales Are Falling Should Indian Economy Prepare For A Below The Belt Jolt\n",
            "- Crew member dies after falling overboard from world’s largest cruise ship\n",
            "\n",
            "## LiveMint\n",
            "- Japan bonds drift higher as traders assess fiscal fallout from coalition defeat\n",
            "- Japan bonds drift higher as traders assess fiscal fallout from coalition defeat\n",
            "- Wheat heads for weekly loss on ample supply\n",
            "- Wheat heads for weekly loss on ample supply\n",
            "- Gold prices decline on easing tariff worries; silver trades higher\n",
            "- Gold prices decline on easing tariff worries; silver trades higher\n",
            "- Tom Hayes’ Industry Ban Dropped by FCA After UK Conviction Tossed\n",
            "- Tom Hayes’ Industry Ban Dropped by FCA After UK Conviction Tossed\n"
          ]
        }
      ],
      "source": [
        "import requests\n",
        "from bs4 import BeautifulSoup\n",
        "\n",
        "SOURCES = [\n",
        "    (\"Financial Express\", \"https://www.financialexpress.com/market/\"),\n",
        "    (\"Economic Times\", \"https://economictimes.indiatimes.com/markets\"),\n",
        "    (\"LiveMint\", \"https://www.livemint.com/market\")\n",
        "]\n",
        "\n",
        "NEGATIVE_KEYWORDS = [\"fall\", \"weak\", \"drop\", \"decline\", \"slump\", \"loss\", \"bear\", \"selloff\",'HCLTECH','INFY']\n",
        "# NEGATIVE_KEYWORDS = [\"TCS\"]\n",
        "\n",
        "def fetch_headlines(url):\n",
        "    resp = requests.get(url, headers={\"User-Agent\":\"Mozilla/5.0\"})\n",
        "    soup = BeautifulSoup(resp.text, \"html.parser\")\n",
        "    return [h.get_text(strip=True) for h in soup.find_all(['h2','h3','a'])]\n",
        "\n",
        "def is_negative(headline):\n",
        "    text = headline.lower()\n",
        "    return any(k in text for k in NEGATIVE_KEYWORDS)\n",
        "\n",
        "def scrape_negative():\n",
        "    for name, url in SOURCES:\n",
        "        print(f\"\\n## {name}\")\n",
        "        for hl in fetch_headlines(url):\n",
        "            if is_negative(hl):\n",
        "                print(f\"- {hl}\")\n",
        "\n",
        "if __name__ == \"__main__\":\n",
        "    scrape_negative()"
      ]
    },
    {
      "cell_type": "code",
      "source": [
        "'''\n",
        "import tweepy\n",
        "import pandas as pd\n",
        "\n",
        "# === 1. Set your Twitter API credentials ===\n",
        "#api_key: pmQkn7ZJd8R2dbI6u23NcbWm4\n",
        "#api_key_secret: hXPFafMtGvhoO4dZmuuq2tZvtOkkHngIIcHhFGfgLdlPEWNKla\n",
        "bearer_token = \"AAAAAAAAAAAAAAAAAAAAAEOx2wEAAAAAI%2FIygOXZzCadXh0MhU90MeNwif0%3Dnk71ObSDSLWPzUUEzVLvTd9WJ9Sqy6FnxE0uSgdZt3haL0kN3A\"\n",
        "\n",
        "# === 2. Setup Tweepy client ===\n",
        "client = tweepy.Client(bearer_token=bearer_token)\n",
        "\n",
        "# === 3. Build search query ===\n",
        "# X API uses advanced operators: lang:en for English\n",
        "#negative_words = [\"fall\", \"drop\", \"bearish\", \"selloff\", \"weak\", \"decline\", \"slump\", \"panic\", \"loss\"]\n",
        "negative_words = [\"fall\", \"drop\", \"weak\", \"decline\", \"slump\", \"panic\", \"loss\",'WIPRO','TECHM']\n",
        "query = \"(\" + \" OR \".join(negative_words) + \") (nifty OR sensex OR stock OR market OR nifty50 OR niftybank) lang:en -is:retweet\"\n",
        "\n",
        "# === 4. Make request to Twitter Recent Search API ===\n",
        "response = client.search_recent_tweets(query=query, max_results=50, tweet_fields=['created_at','author_id','text'])\n",
        "\n",
        "# === 5. Process and print results ===\n",
        "tweets_data = []\n",
        "for tweet in response.data:\n",
        "    if tweet.author_id in [\"1167253017193791488\"]:\n",
        "      continue\n",
        "    else:\n",
        "        tweets_data.append({\n",
        "          'time': tweet.created_at,\n",
        "          'author_id': tweet.author_id,\n",
        "          'text': tweet.text\n",
        "      })\n",
        "\n",
        "# Save or display\n",
        "df = pd.DataFrame(tweets_data)\n",
        "print(df)\n",
        "df.to_csv(\"negative_stock_tweets.csv\", index=False)\n",
        "'''"
      ],
      "metadata": {
        "colab": {
          "base_uri": "https://localhost:8080/",
          "height": 373
        },
        "id": "MBFLpg_0V4hZ",
        "outputId": "5324288d-7e3a-4b86-8cf2-a94ae87dfbe7"
      },
      "execution_count": null,
      "outputs": [
        {
          "output_type": "error",
          "ename": "TooManyRequests",
          "evalue": "429 Too Many Requests\nUsage cap exceeded: Monthly product cap",
          "traceback": [
            "\u001b[0;31m---------------------------------------------------------------------------\u001b[0m",
            "\u001b[0;31mTooManyRequests\u001b[0m                           Traceback (most recent call last)",
            "\u001b[0;32m/tmp/ipython-input-1-1365630051.py\u001b[0m in \u001b[0;36m<cell line: 0>\u001b[0;34m()\u001b[0m\n\u001b[1;32m     17\u001b[0m \u001b[0;34m\u001b[0m\u001b[0m\n\u001b[1;32m     18\u001b[0m \u001b[0;31m# === 4. Make request to Twitter Recent Search API ===\u001b[0m\u001b[0;34m\u001b[0m\u001b[0;34m\u001b[0m\u001b[0m\n\u001b[0;32m---> 19\u001b[0;31m \u001b[0mresponse\u001b[0m \u001b[0;34m=\u001b[0m \u001b[0mclient\u001b[0m\u001b[0;34m.\u001b[0m\u001b[0msearch_recent_tweets\u001b[0m\u001b[0;34m(\u001b[0m\u001b[0mquery\u001b[0m\u001b[0;34m=\u001b[0m\u001b[0mquery\u001b[0m\u001b[0;34m,\u001b[0m \u001b[0mmax_results\u001b[0m\u001b[0;34m=\u001b[0m\u001b[0;36m50\u001b[0m\u001b[0;34m,\u001b[0m \u001b[0mtweet_fields\u001b[0m\u001b[0;34m=\u001b[0m\u001b[0;34m[\u001b[0m\u001b[0;34m'created_at'\u001b[0m\u001b[0;34m,\u001b[0m\u001b[0;34m'author_id'\u001b[0m\u001b[0;34m,\u001b[0m\u001b[0;34m'text'\u001b[0m\u001b[0;34m]\u001b[0m\u001b[0;34m)\u001b[0m\u001b[0;34m\u001b[0m\u001b[0;34m\u001b[0m\u001b[0m\n\u001b[0m\u001b[1;32m     20\u001b[0m \u001b[0;34m\u001b[0m\u001b[0m\n\u001b[1;32m     21\u001b[0m \u001b[0;31m# === 5. Process and print results ===\u001b[0m\u001b[0;34m\u001b[0m\u001b[0;34m\u001b[0m\u001b[0m\n",
            "\u001b[0;32m/usr/local/lib/python3.11/dist-packages/tweepy/client.py\u001b[0m in \u001b[0;36msearch_recent_tweets\u001b[0;34m(self, query, user_auth, **params)\u001b[0m\n\u001b[1;32m   1268\u001b[0m         \"\"\"\n\u001b[1;32m   1269\u001b[0m         \u001b[0mparams\u001b[0m\u001b[0;34m[\u001b[0m\u001b[0;34m\"query\"\u001b[0m\u001b[0;34m]\u001b[0m \u001b[0;34m=\u001b[0m \u001b[0mquery\u001b[0m\u001b[0;34m\u001b[0m\u001b[0;34m\u001b[0m\u001b[0m\n\u001b[0;32m-> 1270\u001b[0;31m         return self._make_request(\n\u001b[0m\u001b[1;32m   1271\u001b[0m             \u001b[0;34m\"GET\"\u001b[0m\u001b[0;34m,\u001b[0m \u001b[0;34m\"/2/tweets/search/recent\"\u001b[0m\u001b[0;34m,\u001b[0m \u001b[0mparams\u001b[0m\u001b[0;34m=\u001b[0m\u001b[0mparams\u001b[0m\u001b[0;34m,\u001b[0m\u001b[0;34m\u001b[0m\u001b[0;34m\u001b[0m\u001b[0m\n\u001b[1;32m   1272\u001b[0m             endpoint_parameters=(\n",
            "\u001b[0;32m/usr/local/lib/python3.11/dist-packages/tweepy/client.py\u001b[0m in \u001b[0;36m_make_request\u001b[0;34m(self, method, route, params, endpoint_parameters, json, data_type, user_auth)\u001b[0m\n\u001b[1;32m    127\u001b[0m         \u001b[0mrequest_params\u001b[0m \u001b[0;34m=\u001b[0m \u001b[0mself\u001b[0m\u001b[0;34m.\u001b[0m\u001b[0m_process_params\u001b[0m\u001b[0;34m(\u001b[0m\u001b[0mparams\u001b[0m\u001b[0;34m,\u001b[0m \u001b[0mendpoint_parameters\u001b[0m\u001b[0;34m)\u001b[0m\u001b[0;34m\u001b[0m\u001b[0;34m\u001b[0m\u001b[0m\n\u001b[1;32m    128\u001b[0m \u001b[0;34m\u001b[0m\u001b[0m\n\u001b[0;32m--> 129\u001b[0;31m         response = self.request(method, route, params=request_params,\n\u001b[0m\u001b[1;32m    130\u001b[0m                                 json=json, user_auth=user_auth)\n\u001b[1;32m    131\u001b[0m \u001b[0;34m\u001b[0m\u001b[0m\n",
            "\u001b[0;32m/usr/local/lib/python3.11/dist-packages/tweepy/client.py\u001b[0m in \u001b[0;36mrequest\u001b[0;34m(self, method, route, params, json, user_auth)\u001b[0m\n\u001b[1;32m    113\u001b[0m                     \u001b[0;32mreturn\u001b[0m \u001b[0mself\u001b[0m\u001b[0;34m.\u001b[0m\u001b[0mrequest\u001b[0m\u001b[0;34m(\u001b[0m\u001b[0mmethod\u001b[0m\u001b[0;34m,\u001b[0m \u001b[0mroute\u001b[0m\u001b[0;34m,\u001b[0m \u001b[0mparams\u001b[0m\u001b[0;34m,\u001b[0m \u001b[0mjson\u001b[0m\u001b[0;34m,\u001b[0m \u001b[0muser_auth\u001b[0m\u001b[0;34m)\u001b[0m\u001b[0;34m\u001b[0m\u001b[0;34m\u001b[0m\u001b[0m\n\u001b[1;32m    114\u001b[0m                 \u001b[0;32melse\u001b[0m\u001b[0;34m:\u001b[0m\u001b[0;34m\u001b[0m\u001b[0;34m\u001b[0m\u001b[0m\n\u001b[0;32m--> 115\u001b[0;31m                     \u001b[0;32mraise\u001b[0m \u001b[0mTooManyRequests\u001b[0m\u001b[0;34m(\u001b[0m\u001b[0mresponse\u001b[0m\u001b[0;34m)\u001b[0m\u001b[0;34m\u001b[0m\u001b[0;34m\u001b[0m\u001b[0m\n\u001b[0m\u001b[1;32m    116\u001b[0m             \u001b[0;32mif\u001b[0m \u001b[0mresponse\u001b[0m\u001b[0;34m.\u001b[0m\u001b[0mstatus_code\u001b[0m \u001b[0;34m>=\u001b[0m \u001b[0;36m500\u001b[0m\u001b[0;34m:\u001b[0m\u001b[0;34m\u001b[0m\u001b[0;34m\u001b[0m\u001b[0m\n\u001b[1;32m    117\u001b[0m                 \u001b[0;32mraise\u001b[0m \u001b[0mTwitterServerError\u001b[0m\u001b[0;34m(\u001b[0m\u001b[0mresponse\u001b[0m\u001b[0;34m)\u001b[0m\u001b[0;34m\u001b[0m\u001b[0;34m\u001b[0m\u001b[0m\n",
            "\u001b[0;31mTooManyRequests\u001b[0m: 429 Too Many Requests\nUsage cap exceeded: Monthly product cap"
          ]
        }
      ]
    },
    {
      "cell_type": "code",
      "source": [
        "\n",
        "\n",
        "'''\n",
        "import requests\n",
        "\n",
        "API_KEY = \"YOUR_API_KEY\"\n",
        "#tickers = [\"RELIANCE.NS\", \"TCS.NS\", \"HDFC.NS\"]  # Use NSE tickers with .NS\n",
        "#url = f\"https://stocknewsapi.com/api/v1?tickers={','.join(tickers)}&items=50&sentiment=negative&token={API_KEY}\"\n",
        "url = f\"https://api.marketaux.com/v1/news/all?countries=in&filter_entities=true&limit=10&published_after=2025-07-16T17:14&api_token=IKK5bW373GsLCKKRhNjfYj5sqHxLpVkfsbbHOxgW\"\n",
        "#url  = f\"https://api.marketaux.com/v1/news/all?countries=in&symbols=INFY,WIPRO&filter_entities=true&limit=10&published_after=2025-07-16T17:14&api_token=IKK5bW373GsLCKKRhNjfYj5sqHxLpVkfsbbHOxgW\"\n",
        "resp = requests.get(url)\n",
        "#print(resp.json().get(\"data\", []))\n",
        "for article in resp.json().get(\"data\", []):\n",
        "    print(f\"{article['entities'][0]['symbol']}: {article['title']} ({article['description']}) ({article['entities'][0]['highlights']})\")\n",
        "'''"
      ],
      "metadata": {
        "colab": {
          "base_uri": "https://localhost:8080/"
        },
        "id": "-DEJDrwUYek8",
        "outputId": "04255f4b-fdfe-42c6-c070-54f67a8fc7d2"
      },
      "execution_count": null,
      "outputs": [
        {
          "output_type": "stream",
          "name": "stdout",
          "text": [
            "[{'uuid': 'bb18831a-a092-4875-9bd3-3de478a5cd75', 'title': 'Rs 700 crore IndiQube IPO to open on July 23', 'description': 'IndiQube Spaces ₹700 crore IPO opens July 23, comprising ₹650 crore fresh issue and ₹50 crore OFS by promoters. Proceeds will fund expansion, debt repayment, and general corporate purposes. Anchor bidding begins July 22.', 'keywords': 'indiqube ipo, indiqube spaces ipo date, indiqube ipo price band, indiqube red herring prospectus, indiqube anchor investor bidding, indiqube ipo opening date, indiqube fresh issue, indiqube ofs details, indiqube ipo objectives, indiqube july 2025 ipo, jm financial limited, siemens', 'snippet': 'IndiQube Spaces IPO proceeds\\n\\nLive Events\\n\\nIndiQube financials\\n\\nIndiQube IPO lead managers\\n\\n\\n\\n\\n\\n(You can now subscribe to our\\n\\n(You can now subscribe to our ETM...', 'url': 'https://economictimes.indiatimes.com/markets/ipos/fpos/rs-700-crore-indiqube-ipo-to-open-on-july-23/articleshow/122656764.cms', 'image_url': 'https://img.etimg.com/thumb/msid-122656797,width-1200,height-630,imgsize-31170,overlay-etmarkets/articleshow.jpg', 'language': 'en', 'published_at': '2025-07-17T16:02:00.000000Z', 'source': 'economictimes.indiatimes.com', 'relevance_score': None, 'entities': [{'symbol': 'JMFINANCIL.BO', 'name': 'JM Financial Limited', 'exchange': None, 'exchange_long': None, 'country': 'in', 'type': 'equity', 'industry': 'Financial Services', 'match_score': 29.072788, 'sentiment_score': 0.6486, 'highlights': [{'highlight': 'The rise of hybrid work models, prudence[+337 characters]', 'sentiment': 0.6486, 'highlighted_in': 'main_text'}]}, {'symbol': 'SIEMENS.BO', 'name': 'Siemens Limited', 'exchange': None, 'exchange_long': None, 'country': 'in', 'type': 'equity', 'industry': 'Industrials', 'match_score': 12.528099, 'sentiment_score': 0.1779, 'highlights': [{'highlight': 'Its diverse client mix includes Enphase,[+319 characters]', 'sentiment': 0.1779, 'highlighted_in': 'main_text'}]}, {'symbol': 'ISEC.BO', 'name': 'ICICI Securities Limited', 'exchange': None, 'exchange_long': None, 'country': 'in', 'type': 'equity', 'industry': 'N/A', 'match_score': 29.59916, 'sentiment_score': 0.4767, 'highlights': [{'highlight': 'The rise of hybrid work models, prudence[+337 characters]', 'sentiment': 0.4767, 'highlighted_in': 'main_text'}]}, {'symbol': 'CRISIL.BO', 'name': 'CRISIL Limited', 'exchange': None, 'exchange_long': None, 'country': 'in', 'type': 'equity', 'industry': 'Financial Services', 'match_score': 14.556541, 'sentiment_score': 0, 'highlights': [{'highlight': 'The company has also received a <em>CRIS[+139 characters]', 'sentiment': 0, 'highlighted_in': 'main_text'}]}], 'similar': []}, {'uuid': '0d31307e-cbd9-45b7-8cc0-1e767e1935fe', 'title': 'Buy, Sell Or Hold: Kalyan Jewellers, CDSL, RIL, Swiggy, RVNL, Texmaco Rail — Ask Profit', 'description': 'Should you hold shares of Rail Vikas Nigam Ltd.? Should you add shares of Kalyan Jewellers Ltd. at the current market price? Have you lost the chance to buy shares of Reliance Industries Ltd. at an attractive price? Is it the right time to exit Central Depository Services (India) Ltd.?', 'keywords': 'Gillette India Ltd., Central Depository Services (India) Ltd., Swiggy Ltd, Reliance Industries Ltd., Texmaco Rail & Engineering Ltd., Rail Vikas Nigam Ltd., Kalyan Jewellers India Ltd, share price, Share market today, stock market today', 'snippet': 'Should you hold shares of Rail Vikas Nigam Ltd.? Should you add shares of Kalyan Jewellers India Ltd. at the current market price? Have you lost the chance to b...', 'url': 'https://www.ndtvprofit.com/markets/buy-sell-or-hold-gillette-kalyan-jewellers-cdsl-ril-swiggy-rvnl-texmaco-rail', 'image_url': 'https://media.assettype.com/bloombergquint%2F2025-07-17%2Fifxauqzu%2FGeminiGeneratedImagexf413mxf413mxf41.png?w=1200&auto=format%2Ccompress&ogImage=true', 'language': 'en', 'published_at': '2025-07-17T15:40:49.000000Z', 'source': 'bloombergquint.com', 'relevance_score': None, 'entities': [{'symbol': 'RELIANCEPP.BO', 'name': 'Reliance Industries Ltd', 'exchange': None, 'exchange_long': None, 'country': 'in', 'type': 'equity', 'industry': 'N/A', 'match_score': 37.37342, 'sentiment_score': 0.6322, 'highlights': [{'highlight': 'Have you lost the chance to buy shares o[+148 characters]', 'sentiment': 0.6322, 'highlighted_in': 'main_text'}]}], 'similar': []}, {'uuid': 'ea338f45-2073-4c35-a724-d55cb7e968b3', 'title': 'LTIMindtree posts steady Q1 with boost in Europe business', 'description': 'India’s sixth-largest IT firm beats demand gloom with strong contribution from European clients and retail vertical.', 'keywords': 'LTIMindtree Q1 results, LTIMindtree revenue growth, LTIMindtree ADM deal, LTIMindtree quarterly earnings, LTIMindtree profit June 2025, Indian IT company results, Venu Lambu LTIMindtree, Tech Mahindra earnings, Wipro Q1 FY26, TCS revenue June 2025, HCL Tech results, mid-tier IT companies India, IT sector outlook India, European IT clients, IT services contracts India', 'snippet': 'Bengaluru: LTIMindtree Ltd began the new fiscal year on solid footing, reporting revenue growth in line with expectations, led largely by clients in Europe and ...', 'url': 'https://www.livemint.com/companies/company-results/ltimindtree-q1-results-europe-retail-revenue-growth-profit-deal-adm-11752761556316.html', 'image_url': 'https://www.livemint.com/lm-img/img/2025/07/17/1600x900/LTIMINDTREE-RESULTS--1_1752764855384_1752764867064.JPG', 'language': 'en', 'published_at': '2025-07-17T15:29:05.000000Z', 'source': 'livemint.com', 'relevance_score': None, 'entities': [{'symbol': 'HCLTECH-BL.NS', 'name': 'HCL TECHNOLOGIES', 'exchange': None, 'exchange_long': None, 'country': 'in', 'type': 'equity', 'industry': 'N/A', 'match_score': 23.779972, 'sentiment_score': 0.3818, 'highlights': [{'highlight': 'Its performance was broadly in line with[+311 characters]', 'sentiment': 0.3818, 'highlighted_in': 'main_text'}]}], 'similar': []}]\n",
            "JMFINANCIL.BO: Rs 700 crore IndiQube IPO to open on July 23 (IndiQube Spaces ₹700 crore IPO opens July 23, comprising ₹650 crore fresh issue and ₹50 crore OFS by promoters. Proceeds will fund expansion, debt repayment, and general corporate purposes. Anchor bidding begins July 22.) ([{'highlight': 'The rise of hybrid work models, prudence[+337 characters]', 'sentiment': 0.6486, 'highlighted_in': 'main_text'}])\n",
            "RELIANCEPP.BO: Buy, Sell Or Hold: Kalyan Jewellers, CDSL, RIL, Swiggy, RVNL, Texmaco Rail — Ask Profit (Should you hold shares of Rail Vikas Nigam Ltd.? Should you add shares of Kalyan Jewellers Ltd. at the current market price? Have you lost the chance to buy shares of Reliance Industries Ltd. at an attractive price? Is it the right time to exit Central Depository Services (India) Ltd.?) ([{'highlight': 'Have you lost the chance to buy shares o[+148 characters]', 'sentiment': 0.6322, 'highlighted_in': 'main_text'}])\n",
            "HCLTECH-BL.NS: LTIMindtree posts steady Q1 with boost in Europe business (India’s sixth-largest IT firm beats demand gloom with strong contribution from European clients and retail vertical.) ([{'highlight': 'Its performance was broadly in line with[+311 characters]', 'sentiment': 0.3818, 'highlighted_in': 'main_text'}])\n"
          ]
        }
      ]
    },
    {
      "cell_type": "markdown",
      "source": [
        "**FINHUB API**"
      ],
      "metadata": {
        "id": "d3Q-lQZifZXy"
      }
    },
    {
      "cell_type": "code",
      "source": [
        "'''\n",
        "import requests\n",
        "import pandas as pd\n",
        "\n",
        "# 🔑 Your Finnhub API token\n",
        "API_KEY = \"d1sjh99r01qhe5ra9ecgd1sjh99r01qhe5ra9ed0\"\n",
        "\n",
        "# 📰 Endpoint for general market news (category: general)\n",
        "url = f\"https://finnhub.io/api/v1/news?category=general&token={API_KEY}\"\n",
        "\n",
        "# 🔍 Send GET request\n",
        "response = requests.get(url)\n",
        "\n",
        "# ✅ Parse and filter India-related news\n",
        "if response.status_code == 200:\n",
        "    news_data = response.json()\n",
        "\n",
        "    # Filter India-related headlines\n",
        "    india_news = [article for article in news_data\n",
        "                  if 'india' in article['headline'].lower() or\n",
        "                     'nifty' in article['headline'].lower() or\n",
        "                     'sensex' in article['headline'].lower()]\n",
        "\n",
        "    # Print or save\n",
        "    df = pd.DataFrame(india_news)\n",
        "    print(df[['datetime', 'headline', 'summary', 'url']])\n",
        "    df.to_csv(\"india_stock_news.csv\", index=False)\n",
        "else:\n",
        "    print(\"Error:\", response.status_code, response.text)\n",
        "'''"
      ],
      "metadata": {
        "colab": {
          "base_uri": "https://localhost:8080/"
        },
        "id": "l-gMzuxjfdUs",
        "outputId": "af863a8b-d1e0-4c57-d8e6-a02f41dcc401"
      },
      "execution_count": null,
      "outputs": [
        {
          "output_type": "stream",
          "name": "stdout",
          "text": [
            "     datetime                                           headline  \\\n",
            "0  1752661329  Schneider in talks to buy Temasek’s stake in I...   \n",
            "1  1752640533  NATO Chief Warns China, India and Brazil Over ...   \n",
            "\n",
            "                                             summary  \\\n",
            "0  Schneider Electric considers buying out Temase...   \n",
            "1  Rutte’s remarks offered clarity about the pote...   \n",
            "\n",
            "                                                 url  \n",
            "0  https://www.bloomberg.com/news/articles/2025-0...  \n",
            "1  https://www.bloomberg.com/news/articles/2025-0...  \n"
          ]
        }
      ]
    },
    {
      "cell_type": "code",
      "source": [],
      "metadata": {
        "id": "S3CmnO_Sha4P"
      },
      "execution_count": null,
      "outputs": []
    }
  ]
}